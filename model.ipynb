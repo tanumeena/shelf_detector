{
 "cells": [
  {
   "cell_type": "code",
   "metadata": {},
   "source": [
    "# Dummy detection notebook\n",
    "import cv2\n",
    "import numpy as np\n",
    "import random\n",
    "\n",
    "image = cv2.imread('../data/sample_image.jpeg')\n",
    "if image is None:\n",
    "    print('[ERROR] Could not load image.')\n",
    "else:\n",
    "    for _ in range(5):\n",
    "        x, y = random.randint(0,100), random.randint(0,100)\n",
    "        cv2.rectangle(image, (x,y), (x+50,y+50), (0,255,0), 2)\n",
    "    cv2.imwrite('../outputs/output_image.jpeg', image)\n",
    "    print('Output saved.')"
   ]
  }
 ],
 "metadata": {},
 "nbformat": 4,
 "nbformat_minor": 2
}